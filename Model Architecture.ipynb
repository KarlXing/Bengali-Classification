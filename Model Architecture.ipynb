{
 "cells": [
  {
   "cell_type": "code",
   "execution_count": 1,
   "metadata": {},
   "outputs": [
    {
     "name": "stderr",
     "output_type": "stream",
     "text": [
      "/anaconda3/lib/python3.6/site-packages/requests/__init__.py:80: RequestsDependencyWarning: urllib3 (1.24.2) or chardet (3.0.4) doesn't match a supported version!\n",
      "  RequestsDependencyWarning)\n"
     ]
    }
   ],
   "source": [
    "from model import SENet, SEResNeXtBottleneck\n",
    "import torch"
   ]
  },
  {
   "cell_type": "code",
   "execution_count": 2,
   "metadata": {},
   "outputs": [],
   "source": [
    "model = SENet(SEResNeXtBottleneck, [3, 4, 6, 3], groups=32, reduction=16,\n",
    "                  dropout_p=0.1, inplanes=64, input_3x3=False,\n",
    "                  downsample_kernel_size=1, downsample_padding=0)"
   ]
  },
  {
   "cell_type": "code",
   "execution_count": 3,
   "metadata": {},
   "outputs": [],
   "source": [
    "inputs = torch.rand((64,1,128,128))"
   ]
  },
  {
   "cell_type": "code",
   "execution_count": 4,
   "metadata": {},
   "outputs": [],
   "source": [
    "outputs = model(inputs)"
   ]
  },
  {
   "cell_type": "code",
   "execution_count": 5,
   "metadata": {},
   "outputs": [
    {
     "data": {
      "text/plain": [
       "torch.Size([64, 186])"
      ]
     },
     "execution_count": 5,
     "metadata": {},
     "output_type": "execute_result"
    }
   ],
   "source": [
    "outputs.shape"
   ]
  },
  {
   "cell_type": "code",
   "execution_count": 20,
   "metadata": {},
   "outputs": [],
   "source": [
    "import pandas as pd\n",
    "import matplotlib.pyplot as plt"
   ]
  },
  {
   "cell_type": "code",
   "execution_count": 14,
   "metadata": {},
   "outputs": [],
   "source": [
    "df = pd.read_csv(\"~/Downloads/train.csv\")\n",
    "labels = df[['grapheme_root', 'vowel_diacritic', 'consonant_diacritic']].values"
   ]
  },
  {
   "cell_type": "code",
   "execution_count": 17,
   "metadata": {},
   "outputs": [],
   "source": [
    "f1 = labels[:50210, :]\n",
    "f2 = labels[50210:50210*2, :]\n",
    "f3 = labels[50210*2:50210*3, :]\n",
    "f4 = labels[50210*3:, :]"
   ]
  },
  {
   "cell_type": "code",
   "execution_count": 27,
   "metadata": {},
   "outputs": [
    {
     "data": {
      "text/plain": [
       "(array([  38.,   33.,   85.,   81.,   76.,   41.,   75.,   35.,   44.,\n",
       "         106.,   37.,   45.,   31., 1361.,  198.,  280.,  214.,  178.,\n",
       "         408.,   86.,   78.,  260.,  735., 1276.,   83.,  288.,   41.,\n",
       "          87.,  197.,  654.,  102.,  211.,  286.,   30.,   57.,  133.,\n",
       "         262.,   69.,  861.,  150.,  194.,   84.,  490.,  869.,  252.,\n",
       "          43.,  150.,  115.,  346.,  101.,  175.,   95.,  217.,  927.,\n",
       "         132.,  414.,  686.,  141.,  332.,  590.,  102.,  148.,  196.,\n",
       "          41., 1413.,  352.,  179.,  132.,  138.,  197.,  259.,  740.,\n",
       "        1467.,   32.,  367.,  297.,  515.,  247.,   66.,  838.,  110.,\n",
       "         846.,   63.,  374.,  117.,  326.,  528.,   41.,  216.,  597.,\n",
       "         162.,  373.,  282.,  145.,  254.,  186., 1264.,  115.,  163.,\n",
       "         117.,  129.,  261.,   40.,  844.,   32.,   40.,  211., 1328.,\n",
       "          35.,  218.,   82.,  192.,  234., 1072.,   40.,  992.,  113.,\n",
       "         378.,  266.,  381.,  294.,  113.,  592.,  483.,  563.,  199.,\n",
       "          41.,  230.,  233.,  251.,   43.,  108.,  277., 1107.,  169.,\n",
       "         171.,  250.,  137.,  233.,  522.,  227.,  418.,  270.,  165.,\n",
       "         128.,   89.,   77., 1079.,  456.,  588.,  579.,  285.,  148.,\n",
       "         383.,  199.,  236.,  184.,   79.,   30.,  845.,  146.,   84.,\n",
       "         112.,   37.,   39.,  271.,   73.,  409.]),\n",
       " array([  0.        ,   0.99404762,   1.98809524,   2.98214286,\n",
       "          3.97619048,   4.9702381 ,   5.96428571,   6.95833333,\n",
       "          7.95238095,   8.94642857,   9.94047619,  10.93452381,\n",
       "         11.92857143,  12.92261905,  13.91666667,  14.91071429,\n",
       "         15.9047619 ,  16.89880952,  17.89285714,  18.88690476,\n",
       "         19.88095238,  20.875     ,  21.86904762,  22.86309524,\n",
       "         23.85714286,  24.85119048,  25.8452381 ,  26.83928571,\n",
       "         27.83333333,  28.82738095,  29.82142857,  30.81547619,\n",
       "         31.80952381,  32.80357143,  33.79761905,  34.79166667,\n",
       "         35.78571429,  36.7797619 ,  37.77380952,  38.76785714,\n",
       "         39.76190476,  40.75595238,  41.75      ,  42.74404762,\n",
       "         43.73809524,  44.73214286,  45.72619048,  46.7202381 ,\n",
       "         47.71428571,  48.70833333,  49.70238095,  50.69642857,\n",
       "         51.69047619,  52.68452381,  53.67857143,  54.67261905,\n",
       "         55.66666667,  56.66071429,  57.6547619 ,  58.64880952,\n",
       "         59.64285714,  60.63690476,  61.63095238,  62.625     ,\n",
       "         63.61904762,  64.61309524,  65.60714286,  66.60119048,\n",
       "         67.5952381 ,  68.58928571,  69.58333333,  70.57738095,\n",
       "         71.57142857,  72.56547619,  73.55952381,  74.55357143,\n",
       "         75.54761905,  76.54166667,  77.53571429,  78.5297619 ,\n",
       "         79.52380952,  80.51785714,  81.51190476,  82.50595238,\n",
       "         83.5       ,  84.49404762,  85.48809524,  86.48214286,\n",
       "         87.47619048,  88.4702381 ,  89.46428571,  90.45833333,\n",
       "         91.45238095,  92.44642857,  93.44047619,  94.43452381,\n",
       "         95.42857143,  96.42261905,  97.41666667,  98.41071429,\n",
       "         99.4047619 , 100.39880952, 101.39285714, 102.38690476,\n",
       "        103.38095238, 104.375     , 105.36904762, 106.36309524,\n",
       "        107.35714286, 108.35119048, 109.3452381 , 110.33928571,\n",
       "        111.33333333, 112.32738095, 113.32142857, 114.31547619,\n",
       "        115.30952381, 116.30357143, 117.29761905, 118.29166667,\n",
       "        119.28571429, 120.2797619 , 121.27380952, 122.26785714,\n",
       "        123.26190476, 124.25595238, 125.25      , 126.24404762,\n",
       "        127.23809524, 128.23214286, 129.22619048, 130.2202381 ,\n",
       "        131.21428571, 132.20833333, 133.20238095, 134.19642857,\n",
       "        135.19047619, 136.18452381, 137.17857143, 138.17261905,\n",
       "        139.16666667, 140.16071429, 141.1547619 , 142.14880952,\n",
       "        143.14285714, 144.13690476, 145.13095238, 146.125     ,\n",
       "        147.11904762, 148.11309524, 149.10714286, 150.10119048,\n",
       "        151.0952381 , 152.08928571, 153.08333333, 154.07738095,\n",
       "        155.07142857, 156.06547619, 157.05952381, 158.05357143,\n",
       "        159.04761905, 160.04166667, 161.03571429, 162.0297619 ,\n",
       "        163.02380952, 164.01785714, 165.01190476, 166.00595238,\n",
       "        167.        ]),\n",
       " <a list of 168 Patch objects>)"
      ]
     },
     "execution_count": 27,
     "metadata": {},
     "output_type": "execute_result"
    },
    {
     "data": {
      "image/png": "[encoded data removed]",
      "text/plain": [
       "<matplotlib.figure.Figure at 0x1cf339f98>"
      ]
     },
     "metadata": {},
     "output_type": "display_data"
    }
   ],
   "source": [
    "fig, axs = plt.subplots(1, 4, figsize=(20,5))\n",
    "axs[0].hist(f1[:,0], bins=168)\n",
    "axs[1].hist(f2[:,0], bins=168)\n",
    "axs[2].hist(f3[:,0], bins=168)\n",
    "axs[3].hist(f4[:,0], bins=168)"
   ]
  },
  {
   "cell_type": "code",
   "execution_count": null,
   "metadata": {},
   "outputs": [],
   "source": []
  }
 ],
 "metadata": {
  "kernelspec": {
   "display_name": "Python 3",
   "language": "python",
   "name": "python3"
  },
  "language_info": {
   "codemirror_mode": {
    "name": "ipython",
    "version": 3
   },
   "file_extension": ".py",
   "mimetype": "text/x-python",
   "name": "python",
   "nbconvert_exporter": "python",
   "pygments_lexer": "ipython3",
   "version": "3.6.4"
  }
 },
 "nbformat": 4,
 "nbformat_minor": 2
}
